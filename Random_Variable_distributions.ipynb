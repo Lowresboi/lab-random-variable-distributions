{
  "nbformat": 4,
  "nbformat_minor": 0,
  "metadata": {
    "colab": {
      "provenance": []
    },
    "kernelspec": {
      "name": "python3",
      "display_name": "Python 3"
    },
    "language_info": {
      "name": "python"
    }
  },
  "cells": [
    {
      "cell_type": "code",
      "execution_count": 3,
      "metadata": {
        "id": "ZIVpEDzJ-RGq"
      },
      "outputs": [],
      "source": [
        "# Import necessary libraries\n",
        "import pandas as pd\n",
        "import seaborn as sns\n",
        "import matplotlib.pyplot as plt\n",
        "import numpy as np\n",
        "\n",
        "# Load the dataset\n",
        "data = pd.read_csv('https://docs.google.com/spreadsheets/d/1cSCHO0mDxH-K3s_4X7EN5DeopJSOvQoL/edit?usp=drive_link&ouid=105254280602488965870&rtpof=true&sd=true')\n"
      ]
    },
    {
      "cell_type": "code",
      "source": [
        "# Get numerical variables\n",
        "numerical_vars = data.select_dtypes(include=[np.number])\n",
        "\n",
        "# Plot distribution for each numerical variable\n",
        "for column in numerical_vars.columns:\n",
        "    plt.figure(figsize=(10, 6))\n",
        "\n",
        "    # Plot the original distribution\n",
        "    sns.histplot(numerical_vars[column], kde=True, color='blue', label='Original Distribution')\n",
        "    plt.title(f'Distribution of {column}')\n",
        "    plt.legend()\n",
        "    plt.show()\n",
        "\n",
        "    # Plot the log-transformed distribution\n",
        "    plt.figure(figsize=(10, 6))\n",
        "    log_transformed = np.log1p(numerical_vars[column])\n",
        "    sns.histplot(log_transformed, kde=True, color='green', label='Log-Transformed Distribution')\n",
        "    plt.title(f'Log-Transformed Distribution of {column}')\n",
        "    plt.legend()\n",
        "    plt.print()"
      ],
      "metadata": {
        "id": "kZoGBKzW-pPc"
      },
      "execution_count": 10,
      "outputs": []
    }
  ]
}